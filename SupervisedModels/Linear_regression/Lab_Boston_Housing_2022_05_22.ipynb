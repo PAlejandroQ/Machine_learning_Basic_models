{
  "nbformat": 4,
  "nbformat_minor": 0,
  "metadata": {
    "colab": {
      "name": "2022-05-22.ipynb",
      "provenance": [],
      "authorship_tag": "ABX9TyMWm9W6m5gXElwXW0CXWNcz",
      "include_colab_link": true
    },
    "kernelspec": {
      "name": "python3",
      "display_name": "Python 3"
    },
    "language_info": {
      "name": "python"
    }
  },
  "cells": [
    {
      "cell_type": "markdown",
      "metadata": {
        "id": "view-in-github",
        "colab_type": "text"
      },
      "source": [
        "<a href=\"https://colab.research.google.com/github/Sinapssis/Machine_learning_Basic_models/blob/main/SupervisedModels/Linear_regression/Lab_Boston_Housing_2022_05_22.ipynb\" target=\"_parent\"><img src=\"https://colab.research.google.com/assets/colab-badge.svg\" alt=\"Open In Colab\"/></a>"
      ]
    },
    {
      "cell_type": "code",
      "execution_count": null,
      "metadata": {
        "id": "sltrhQCbvSq0"
      },
      "outputs": [],
      "source": [
        ""
      ]
    }
  ]
}